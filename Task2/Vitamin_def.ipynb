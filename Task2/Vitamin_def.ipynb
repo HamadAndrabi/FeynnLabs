{
 "cells": [
  {
   "cell_type": "code",
   "execution_count": 1,
   "metadata": {},
   "outputs": [],
   "source": [
    "import pandas as pd\n",
    "import numpy as np \n",
    "import seaborn as sns \n",
    "import matplotlib.pyplot as plt \n",
    "%matplotlib inline \n",
    "sns.set(color_codes=True)"
   ]
  },
  {
   "cell_type": "code",
   "execution_count": 2,
   "metadata": {},
   "outputs": [
    {
     "data": {
      "text/html": [
       "<div>\n",
       "<style scoped>\n",
       "    .dataframe tbody tr th:only-of-type {\n",
       "        vertical-align: middle;\n",
       "    }\n",
       "\n",
       "    .dataframe tbody tr th {\n",
       "        vertical-align: top;\n",
       "    }\n",
       "\n",
       "    .dataframe thead th {\n",
       "        text-align: right;\n",
       "    }\n",
       "</style>\n",
       "<table border=\"1\" class=\"dataframe\">\n",
       "  <thead>\n",
       "    <tr style=\"text-align: right;\">\n",
       "      <th></th>\n",
       "      <th>State</th>\n",
       "      <th>Population(0-6)years</th>\n",
       "      <th>VitA_deficit%</th>\n",
       "      <th>VitD_deficit%</th>\n",
       "    </tr>\n",
       "  </thead>\n",
       "  <tbody>\n",
       "    <tr>\n",
       "      <th>0</th>\n",
       "      <td>India</td>\n",
       "      <td>163819614</td>\n",
       "      <td>17.6</td>\n",
       "      <td>13.8</td>\n",
       "    </tr>\n",
       "    <tr>\n",
       "      <th>1</th>\n",
       "      <td>Delhi</td>\n",
       "      <td>2016849</td>\n",
       "      <td>17.8</td>\n",
       "      <td>32.5</td>\n",
       "    </tr>\n",
       "    <tr>\n",
       "      <th>2</th>\n",
       "      <td>Haryana</td>\n",
       "      <td>3335537</td>\n",
       "      <td>26.1</td>\n",
       "      <td>27.6</td>\n",
       "    </tr>\n",
       "    <tr>\n",
       "      <th>3</th>\n",
       "      <td>Himachal Pradesh</td>\n",
       "      <td>793137</td>\n",
       "      <td>5.9</td>\n",
       "      <td>4.6</td>\n",
       "    </tr>\n",
       "    <tr>\n",
       "      <th>4</th>\n",
       "      <td>Jammu &amp; Kashmir</td>\n",
       "      <td>1485803</td>\n",
       "      <td>8.7</td>\n",
       "      <td>22.9</td>\n",
       "    </tr>\n",
       "  </tbody>\n",
       "</table>\n",
       "</div>"
      ],
      "text/plain": [
       "              State  Population(0-6)years  VitA_deficit%  VitD_deficit%\n",
       "0             India             163819614           17.6           13.8\n",
       "1             Delhi               2016849           17.8           32.5\n",
       "2           Haryana               3335537           26.1           27.6\n",
       "3  Himachal Pradesh                793137            5.9            4.6\n",
       "4   Jammu & Kashmir               1485803            8.7           22.9"
      ]
     },
     "execution_count": 2,
     "metadata": {},
     "output_type": "execute_result"
    }
   ],
   "source": [
    "df = pd.read_csv(r\"C:\\Users\\asus\\Downloads\\vitamins_data.csv\")\n",
    "df.head()"
   ]
  },
  {
   "cell_type": "code",
   "execution_count": 3,
   "metadata": {},
   "outputs": [],
   "source": [
    "#We drop the first row \n",
    "df.drop(0,axis=0,inplace = True)"
   ]
  },
  {
   "cell_type": "code",
   "execution_count": 4,
   "metadata": {
    "scrolled": true
   },
   "outputs": [
    {
     "data": {
      "text/html": [
       "<div>\n",
       "<style scoped>\n",
       "    .dataframe tbody tr th:only-of-type {\n",
       "        vertical-align: middle;\n",
       "    }\n",
       "\n",
       "    .dataframe tbody tr th {\n",
       "        vertical-align: top;\n",
       "    }\n",
       "\n",
       "    .dataframe thead th {\n",
       "        text-align: right;\n",
       "    }\n",
       "</style>\n",
       "<table border=\"1\" class=\"dataframe\">\n",
       "  <thead>\n",
       "    <tr style=\"text-align: right;\">\n",
       "      <th></th>\n",
       "      <th>State</th>\n",
       "      <th>Population(0-6)years</th>\n",
       "      <th>VitA_deficit%</th>\n",
       "      <th>VitD_deficit%</th>\n",
       "    </tr>\n",
       "  </thead>\n",
       "  <tbody>\n",
       "    <tr>\n",
       "      <th>1</th>\n",
       "      <td>Delhi</td>\n",
       "      <td>2016849</td>\n",
       "      <td>17.8</td>\n",
       "      <td>32.5</td>\n",
       "    </tr>\n",
       "    <tr>\n",
       "      <th>2</th>\n",
       "      <td>Haryana</td>\n",
       "      <td>3335537</td>\n",
       "      <td>26.1</td>\n",
       "      <td>27.6</td>\n",
       "    </tr>\n",
       "    <tr>\n",
       "      <th>3</th>\n",
       "      <td>Himachal Pradesh</td>\n",
       "      <td>793137</td>\n",
       "      <td>5.9</td>\n",
       "      <td>4.6</td>\n",
       "    </tr>\n",
       "    <tr>\n",
       "      <th>4</th>\n",
       "      <td>Jammu &amp; Kashmir</td>\n",
       "      <td>1485803</td>\n",
       "      <td>8.7</td>\n",
       "      <td>22.9</td>\n",
       "    </tr>\n",
       "    <tr>\n",
       "      <th>5</th>\n",
       "      <td>Punjab</td>\n",
       "      <td>3171829</td>\n",
       "      <td>17.2</td>\n",
       "      <td>52.1</td>\n",
       "    </tr>\n",
       "  </tbody>\n",
       "</table>\n",
       "</div>"
      ],
      "text/plain": [
       "              State  Population(0-6)years  VitA_deficit%  VitD_deficit%\n",
       "1             Delhi               2016849           17.8           32.5\n",
       "2           Haryana               3335537           26.1           27.6\n",
       "3  Himachal Pradesh                793137            5.9            4.6\n",
       "4   Jammu & Kashmir               1485803            8.7           22.9\n",
       "5            Punjab               3171829           17.2           52.1"
      ]
     },
     "execution_count": 4,
     "metadata": {},
     "output_type": "execute_result"
    }
   ],
   "source": [
    "df.head()"
   ]
  },
  {
   "cell_type": "code",
   "execution_count": 5,
   "metadata": {},
   "outputs": [],
   "source": [
    "#Start the indexing from 0\n",
    "df.set_index([pd.Index(range(len(df)))], inplace = True)"
   ]
  },
  {
   "cell_type": "code",
   "execution_count": 6,
   "metadata": {},
   "outputs": [],
   "source": [
    "df['Vitamin A Deficit']=df['VitA_deficit%'] * df['Population(0-6)years'] /100"
   ]
  },
  {
   "cell_type": "code",
   "execution_count": 7,
   "metadata": {},
   "outputs": [],
   "source": [
    "df['Vitamin D Deficit']=df['VitD_deficit%'] * df['Population(0-6)years'] /100"
   ]
  },
  {
   "cell_type": "code",
   "execution_count": 8,
   "metadata": {
    "scrolled": true
   },
   "outputs": [
    {
     "data": {
      "text/html": [
       "<div>\n",
       "<style scoped>\n",
       "    .dataframe tbody tr th:only-of-type {\n",
       "        vertical-align: middle;\n",
       "    }\n",
       "\n",
       "    .dataframe tbody tr th {\n",
       "        vertical-align: top;\n",
       "    }\n",
       "\n",
       "    .dataframe thead th {\n",
       "        text-align: right;\n",
       "    }\n",
       "</style>\n",
       "<table border=\"1\" class=\"dataframe\">\n",
       "  <thead>\n",
       "    <tr style=\"text-align: right;\">\n",
       "      <th></th>\n",
       "      <th>State</th>\n",
       "      <th>Population(0-6)years</th>\n",
       "      <th>VitA_deficit%</th>\n",
       "      <th>VitD_deficit%</th>\n",
       "      <th>Vitamin A Deficit</th>\n",
       "      <th>Vitamin D Deficit</th>\n",
       "    </tr>\n",
       "  </thead>\n",
       "  <tbody>\n",
       "    <tr>\n",
       "      <th>0</th>\n",
       "      <td>Delhi</td>\n",
       "      <td>2016849</td>\n",
       "      <td>17.8</td>\n",
       "      <td>32.5</td>\n",
       "      <td>358999.122</td>\n",
       "      <td>655475.925</td>\n",
       "    </tr>\n",
       "    <tr>\n",
       "      <th>1</th>\n",
       "      <td>Haryana</td>\n",
       "      <td>3335537</td>\n",
       "      <td>26.1</td>\n",
       "      <td>27.6</td>\n",
       "      <td>870575.157</td>\n",
       "      <td>920608.212</td>\n",
       "    </tr>\n",
       "  </tbody>\n",
       "</table>\n",
       "</div>"
      ],
      "text/plain": [
       "     State  Population(0-6)years  VitA_deficit%  VitD_deficit%  \\\n",
       "0    Delhi               2016849           17.8           32.5   \n",
       "1  Haryana               3335537           26.1           27.6   \n",
       "\n",
       "   Vitamin A Deficit  Vitamin D Deficit  \n",
       "0         358999.122         655475.925  \n",
       "1         870575.157         920608.212  "
      ]
     },
     "execution_count": 8,
     "metadata": {},
     "output_type": "execute_result"
    }
   ],
   "source": [
    "df.head(2)"
   ]
  },
  {
   "cell_type": "code",
   "execution_count": 9,
   "metadata": {},
   "outputs": [
    {
     "data": {
      "text/plain": [
       "(30, 6)"
      ]
     },
     "execution_count": 9,
     "metadata": {},
     "output_type": "execute_result"
    }
   ],
   "source": [
    "df.shape"
   ]
  },
  {
   "cell_type": "code",
   "execution_count": 10,
   "metadata": {},
   "outputs": [
    {
     "data": {
      "text/plain": [
       "(0, 6)"
      ]
     },
     "execution_count": 10,
     "metadata": {},
     "output_type": "execute_result"
    }
   ],
   "source": [
    "#Calculating Duplicates\n",
    "duplicated_df = df[df.duplicated()]\n",
    "duplicated_df.shape"
   ]
  },
  {
   "cell_type": "code",
   "execution_count": 11,
   "metadata": {},
   "outputs": [
    {
     "data": {
      "text/html": [
       "<div>\n",
       "<style scoped>\n",
       "    .dataframe tbody tr th:only-of-type {\n",
       "        vertical-align: middle;\n",
       "    }\n",
       "\n",
       "    .dataframe tbody tr th {\n",
       "        vertical-align: top;\n",
       "    }\n",
       "\n",
       "    .dataframe thead th {\n",
       "        text-align: right;\n",
       "    }\n",
       "</style>\n",
       "<table border=\"1\" class=\"dataframe\">\n",
       "  <thead>\n",
       "    <tr style=\"text-align: right;\">\n",
       "      <th></th>\n",
       "      <th>State</th>\n",
       "      <th>Population(0-6)years</th>\n",
       "      <th>VitA_deficit%</th>\n",
       "      <th>VitD_deficit%</th>\n",
       "      <th>Vitamin A Deficit</th>\n",
       "      <th>Vitamin D Deficit</th>\n",
       "    </tr>\n",
       "  </thead>\n",
       "  <tbody>\n",
       "    <tr>\n",
       "      <th>0</th>\n",
       "      <td>Delhi</td>\n",
       "      <td>2016849</td>\n",
       "      <td>17.8</td>\n",
       "      <td>32.5</td>\n",
       "      <td>358999.122</td>\n",
       "      <td>655475.925</td>\n",
       "    </tr>\n",
       "    <tr>\n",
       "      <th>1</th>\n",
       "      <td>Haryana</td>\n",
       "      <td>3335537</td>\n",
       "      <td>26.1</td>\n",
       "      <td>27.6</td>\n",
       "      <td>870575.157</td>\n",
       "      <td>920608.212</td>\n",
       "    </tr>\n",
       "    <tr>\n",
       "      <th>2</th>\n",
       "      <td>Himachal Pradesh</td>\n",
       "      <td>793137</td>\n",
       "      <td>5.9</td>\n",
       "      <td>4.6</td>\n",
       "      <td>46795.083</td>\n",
       "      <td>36484.302</td>\n",
       "    </tr>\n",
       "    <tr>\n",
       "      <th>3</th>\n",
       "      <td>Jammu &amp; Kashmir</td>\n",
       "      <td>1485803</td>\n",
       "      <td>8.7</td>\n",
       "      <td>22.9</td>\n",
       "      <td>129264.861</td>\n",
       "      <td>340248.887</td>\n",
       "    </tr>\n",
       "    <tr>\n",
       "      <th>4</th>\n",
       "      <td>Punjab</td>\n",
       "      <td>3171829</td>\n",
       "      <td>17.2</td>\n",
       "      <td>52.1</td>\n",
       "      <td>545554.588</td>\n",
       "      <td>1652522.909</td>\n",
       "    </tr>\n",
       "  </tbody>\n",
       "</table>\n",
       "</div>"
      ],
      "text/plain": [
       "              State  Population(0-6)years  VitA_deficit%  VitD_deficit%  \\\n",
       "0             Delhi               2016849           17.8           32.5   \n",
       "1           Haryana               3335537           26.1           27.6   \n",
       "2  Himachal Pradesh                793137            5.9            4.6   \n",
       "3   Jammu & Kashmir               1485803            8.7           22.9   \n",
       "4            Punjab               3171829           17.2           52.1   \n",
       "\n",
       "   Vitamin A Deficit  Vitamin D Deficit  \n",
       "0         358999.122         655475.925  \n",
       "1         870575.157         920608.212  \n",
       "2          46795.083          36484.302  \n",
       "3         129264.861         340248.887  \n",
       "4         545554.588        1652522.909  "
      ]
     },
     "execution_count": 11,
     "metadata": {},
     "output_type": "execute_result"
    }
   ],
   "source": [
    "#Dropping Duplicates\n",
    "df = df.drop_duplicates()\n",
    "df.head()"
   ]
  },
  {
   "cell_type": "code",
   "execution_count": 12,
   "metadata": {},
   "outputs": [
    {
     "data": {
      "text/plain": [
       "State                   30\n",
       "Population(0-6)years    30\n",
       "VitA_deficit%           28\n",
       "VitD_deficit%           30\n",
       "Vitamin A Deficit       28\n",
       "Vitamin D Deficit       30\n",
       "dtype: int64"
      ]
     },
     "execution_count": 12,
     "metadata": {},
     "output_type": "execute_result"
    }
   ],
   "source": [
    "df.count()"
   ]
  },
  {
   "cell_type": "code",
   "execution_count": 13,
   "metadata": {},
   "outputs": [
    {
     "name": "stdout",
     "output_type": "stream",
     "text": [
      "State                   0\n",
      "Population(0-6)years    0\n",
      "VitA_deficit%           2\n",
      "VitD_deficit%           0\n",
      "Vitamin A Deficit       2\n",
      "Vitamin D Deficit       0\n",
      "dtype: int64\n"
     ]
    }
   ],
   "source": [
    "#Counting Null Values\n",
    "print(df.isnull().sum())"
   ]
  },
  {
   "cell_type": "code",
   "execution_count": 14,
   "metadata": {},
   "outputs": [
    {
     "data": {
      "text/plain": [
       "State                   28\n",
       "Population(0-6)years    28\n",
       "VitA_deficit%           28\n",
       "VitD_deficit%           28\n",
       "Vitamin A Deficit       28\n",
       "Vitamin D Deficit       28\n",
       "dtype: int64"
      ]
     },
     "execution_count": 14,
     "metadata": {},
     "output_type": "execute_result"
    }
   ],
   "source": [
    "#Dropping Null Values\n",
    "df = df.dropna()\n",
    "df.count()"
   ]
  },
  {
   "cell_type": "code",
   "execution_count": 15,
   "metadata": {},
   "outputs": [
    {
     "name": "stdout",
     "output_type": "stream",
     "text": [
      "State                   0\n",
      "Population(0-6)years    0\n",
      "VitA_deficit%           0\n",
      "VitD_deficit%           0\n",
      "Vitamin A Deficit       0\n",
      "Vitamin D Deficit       0\n",
      "dtype: int64\n"
     ]
    }
   ],
   "source": [
    "print(df.isnull().sum())"
   ]
  },
  {
   "cell_type": "code",
   "execution_count": 16,
   "metadata": {},
   "outputs": [
    {
     "data": {
      "image/png": "[encoded data removed]",
      "text/plain": [
       "<Figure size 432x288 with 1 Axes>"
      ]
     },
     "metadata": {},
     "output_type": "display_data"
    }
   ],
   "source": [
    "# Detecting Outliers\n",
    "sns.boxplot(x=df[\"VitA_deficit%\"]);"
   ]
  },
  {
   "cell_type": "code",
   "execution_count": 17,
   "metadata": {},
   "outputs": [
    {
     "data": {
      "image/png": "[encoded data removed]",
      "text/plain": [
       "<Figure size 432x288 with 1 Axes>"
      ]
     },
     "metadata": {},
     "output_type": "display_data"
    }
   ],
   "source": [
    "sns.boxplot(x=df[\"Vitamin A Deficit\"]);"
   ]
  },
  {
   "cell_type": "code",
   "execution_count": 18,
   "metadata": {},
   "outputs": [
    {
     "name": "stdout",
     "output_type": "stream",
     "text": [
      "Population(0-6)years    6.597624e+06\n",
      "VitA_deficit%           1.237500e+01\n",
      "VitD_deficit%           1.635000e+01\n",
      "Vitamin A Deficit       9.891992e+05\n",
      "Vitamin D Deficit       7.907004e+05\n",
      "dtype: float64\n"
     ]
    }
   ],
   "source": [
    "Q1 = df.quantile(0.25)\n",
    "Q3 = df.quantile(0.75)\n",
    "\n",
    "IQR = Q3 - Q1\n",
    "print(IQR)"
   ]
  },
  {
   "cell_type": "code",
   "execution_count": 19,
   "metadata": {},
   "outputs": [],
   "source": [
    "df = df[~((df<(Q1-1.5*IQR))|(df > (Q3+1.5*IQR))).any(axis=1)]"
   ]
  },
  {
   "cell_type": "code",
   "execution_count": 20,
   "metadata": {},
   "outputs": [
    {
     "data": {
      "text/plain": [
       "(23, 6)"
      ]
     },
     "execution_count": 20,
     "metadata": {},
     "output_type": "execute_result"
    }
   ],
   "source": [
    "df.shape"
   ]
  },
  {
   "cell_type": "code",
   "execution_count": 21,
   "metadata": {},
   "outputs": [
    {
     "data": {
      "text/html": [
       "<div>\n",
       "<style scoped>\n",
       "    .dataframe tbody tr th:only-of-type {\n",
       "        vertical-align: middle;\n",
       "    }\n",
       "\n",
       "    .dataframe tbody tr th {\n",
       "        vertical-align: top;\n",
       "    }\n",
       "\n",
       "    .dataframe thead th {\n",
       "        text-align: right;\n",
       "    }\n",
       "</style>\n",
       "<table border=\"1\" class=\"dataframe\">\n",
       "  <thead>\n",
       "    <tr style=\"text-align: right;\">\n",
       "      <th></th>\n",
       "      <th>State</th>\n",
       "      <th>Population(0-6)years</th>\n",
       "      <th>VitA_deficit%</th>\n",
       "      <th>VitD_deficit%</th>\n",
       "      <th>Vitamin A Deficit</th>\n",
       "      <th>Vitamin D Deficit</th>\n",
       "    </tr>\n",
       "  </thead>\n",
       "  <tbody>\n",
       "    <tr>\n",
       "      <th>0</th>\n",
       "      <td>Delhi</td>\n",
       "      <td>2016849</td>\n",
       "      <td>17.8</td>\n",
       "      <td>32.5</td>\n",
       "      <td>358999.122</td>\n",
       "      <td>655475.925</td>\n",
       "    </tr>\n",
       "    <tr>\n",
       "      <th>1</th>\n",
       "      <td>Haryana</td>\n",
       "      <td>3335537</td>\n",
       "      <td>26.1</td>\n",
       "      <td>27.6</td>\n",
       "      <td>870575.157</td>\n",
       "      <td>920608.212</td>\n",
       "    </tr>\n",
       "    <tr>\n",
       "      <th>2</th>\n",
       "      <td>Himachal Pradesh</td>\n",
       "      <td>793137</td>\n",
       "      <td>5.9</td>\n",
       "      <td>4.6</td>\n",
       "      <td>46795.083</td>\n",
       "      <td>36484.302</td>\n",
       "    </tr>\n",
       "    <tr>\n",
       "      <th>3</th>\n",
       "      <td>Jammu &amp; Kashmir</td>\n",
       "      <td>1485803</td>\n",
       "      <td>8.7</td>\n",
       "      <td>22.9</td>\n",
       "      <td>129264.861</td>\n",
       "      <td>340248.887</td>\n",
       "    </tr>\n",
       "    <tr>\n",
       "      <th>6</th>\n",
       "      <td>Uttarakhand</td>\n",
       "      <td>1360032</td>\n",
       "      <td>14.3</td>\n",
       "      <td>46.4</td>\n",
       "      <td>194484.576</td>\n",
       "      <td>631054.848</td>\n",
       "    </tr>\n",
       "  </tbody>\n",
       "</table>\n",
       "</div>"
      ],
      "text/plain": [
       "              State  Population(0-6)years  VitA_deficit%  VitD_deficit%  \\\n",
       "0             Delhi               2016849           17.8           32.5   \n",
       "1           Haryana               3335537           26.1           27.6   \n",
       "2  Himachal Pradesh                793137            5.9            4.6   \n",
       "3   Jammu & Kashmir               1485803            8.7           22.9   \n",
       "6       Uttarakhand               1360032           14.3           46.4   \n",
       "\n",
       "   Vitamin A Deficit  Vitamin D Deficit  \n",
       "0         358999.122         655475.925  \n",
       "1         870575.157         920608.212  \n",
       "2          46795.083          36484.302  \n",
       "3         129264.861         340248.887  \n",
       "6         194484.576         631054.848  "
      ]
     },
     "execution_count": 21,
     "metadata": {},
     "output_type": "execute_result"
    }
   ],
   "source": [
    "df.head()"
   ]
  },
  {
   "cell_type": "code",
   "execution_count": 22,
   "metadata": {},
   "outputs": [
    {
     "data": {
      "text/plain": [
       "<AxesSubplot:title={'center':'Vitamin A and D Deficiency %'}, xlabel='State'>"
      ]
     },
     "execution_count": 22,
     "metadata": {},
     "output_type": "execute_result"
    },
    {
     "data": {
      "image/png": "[encoded data removed]",
      "text/plain": [
       "<Figure size 1152x432 with 1 Axes>"
      ]
     },
     "metadata": {},
     "output_type": "display_data"
    }
   ],
   "source": [
    "fig, ax = plt.subplots(figsize=(16,6))\n",
    "df.plot(x='State', y = ['VitA_deficit%', 'VitD_deficit%'], kind = 'bar',\n",
    "       title = 'Vitamin A and D Deficiency %', grid=True,ax=ax)"
   ]
  },
  {
   "cell_type": "code",
   "execution_count": 23,
   "metadata": {},
   "outputs": [
    {
     "data": {
      "text/plain": [
       "<AxesSubplot:title={'center':'Vitamin A and D Deficiency Total'}, xlabel='State'>"
      ]
     },
     "execution_count": 23,
     "metadata": {},
     "output_type": "execute_result"
    },
    {
     "data": {
      "image/png": "[encoded data removed]",
      "text/plain": [
       "<Figure size 1152x432 with 1 Axes>"
      ]
     },
     "metadata": {},
     "output_type": "display_data"
    }
   ],
   "source": [
    "fig, ax = plt.subplots(figsize=(16,6))\n",
    "df.plot(x='State', y = ['Vitamin A Deficit', 'Vitamin D Deficit'], kind = 'bar',\n",
    "       title = 'Vitamin A and D Deficiency Total', grid=True,ax=ax)"
   ]
  },
  {
   "cell_type": "code",
   "execution_count": 24,
   "metadata": {},
   "outputs": [],
   "source": [
    "train = df[['VitA_deficit%', 'VitD_deficit%', 'Vitamin A Deficit', 'Vitamin D Deficit']]"
   ]
  },
  {
   "cell_type": "code",
   "execution_count": 25,
   "metadata": {},
   "outputs": [],
   "source": [
    "from sklearn.preprocessing import StandardScaler"
   ]
  },
  {
   "cell_type": "code",
   "execution_count": 26,
   "metadata": {},
   "outputs": [],
   "source": [
    "sc = StandardScaler().fit(train)\n",
    "train_std = sc.transform(train)"
   ]
  },
  {
   "cell_type": "code",
   "execution_count": 27,
   "metadata": {},
   "outputs": [
    {
     "name": "stdout",
     "output_type": "stream",
     "text": [
      "Requirement already satisfied: yellowbrick in c:\\users\\asus\\anaconda3\\lib\\site-packages (1.3.post1)\n",
      "Requirement already satisfied: cycler>=0.10.0 in c:\\users\\asus\\anaconda3\\lib\\site-packages (from yellowbrick) (0.10.0)\n",
      "Requirement already satisfied: matplotlib!=3.0.0,>=2.0.2 in c:\\users\\asus\\anaconda3\\lib\\site-packages (from yellowbrick) (3.3.2)\n",
      "Requirement already satisfied: numpy<1.20,>=1.16.0 in c:\\users\\asus\\anaconda3\\lib\\site-packages (from yellowbrick) (1.19.2)\n",
      "Requirement already satisfied: scikit-learn>=0.20 in c:\\users\\asus\\anaconda3\\lib\\site-packages (from yellowbrick) (1.0.2)\n",
      "Requirement already satisfied: scipy>=1.0.0 in c:\\users\\asus\\anaconda3\\lib\\site-packages (from yellowbrick) (1.5.2)\n",
      "Requirement already satisfied: six in c:\\users\\asus\\anaconda3\\lib\\site-packages (from cycler>=0.10.0->yellowbrick) (1.15.0)\n",
      "Requirement already satisfied: python-dateutil>=2.1 in c:\\users\\asus\\anaconda3\\lib\\site-packages (from matplotlib!=3.0.0,>=2.0.2->yellowbrick) (2.8.1)\n",
      "Requirement already satisfied: kiwisolver>=1.0.1 in c:\\users\\asus\\anaconda3\\lib\\site-packages (from matplotlib!=3.0.0,>=2.0.2->yellowbrick) (1.3.0)\n",
      "Requirement already satisfied: certifi>=2020.06.20 in c:\\users\\asus\\anaconda3\\lib\\site-packages (from matplotlib!=3.0.0,>=2.0.2->yellowbrick) (2021.10.8)\n",
      "Requirement already satisfied: pillow>=6.2.0 in c:\\users\\asus\\anaconda3\\lib\\site-packages (from matplotlib!=3.0.0,>=2.0.2->yellowbrick) (8.0.1)\n",
      "Requirement already satisfied: pyparsing!=2.0.4,!=2.1.2,!=2.1.6,>=2.0.3 in c:\\users\\asus\\anaconda3\\lib\\site-packages (from matplotlib!=3.0.0,>=2.0.2->yellowbrick) (2.4.7)\n",
      "Requirement already satisfied: joblib>=0.11 in c:\\users\\asus\\anaconda3\\lib\\site-packages (from scikit-learn>=0.20->yellowbrick) (0.17.0)\n",
      "Requirement already satisfied: threadpoolctl>=2.0.0 in c:\\users\\asus\\anaconda3\\lib\\site-packages (from scikit-learn>=0.20->yellowbrick) (2.1.0)\n"
     ]
    }
   ],
   "source": [
    "!pip install yellowbrick"
   ]
  },
  {
   "cell_type": "code",
   "execution_count": 30,
   "metadata": {},
   "outputs": [
    {
     "name": "stderr",
     "output_type": "stream",
     "text": [
      "C:\\Users\\asus\\anaconda3\\lib\\site-packages\\sklearn\\cluster\\_kmeans.py:1036: UserWarning: KMeans is known to have a memory leak on Windows with MKL, when there are less chunks than available threads. You can avoid it by setting the environment variable OMP_NUM_THREADS=1.\n",
      "  warnings.warn(\n"
     ]
    },
    {
     "data": {
      "image/png": "[encoded data removed]",
      "text/plain": [
       "<Figure size 576x396 with 1 Axes>"
      ]
     },
     "metadata": {},
     "output_type": "display_data"
    }
   ],
   "source": [
    "wcss =[]\n",
    "#wcss = Within Cluster Sum of Squares\n",
    "for i in range(1,11):\n",
    "    kmns= KMeans(n_clusters = i, init = 'k-means++', random_state =23)\n",
    "    kmns.fit(train_std)\n",
    "    wcss.append(kmns.inertia_)\n",
    "    \n",
    "#Plotting to find the optimum number of clusters    \n",
    "plt.plot(range(1,11), wcss)\n",
    "plt.xlabel('Number of Clusters')\n",
    "plt.ylabel('WCSS')\n",
    "plt.title('Elbow Method Plot')\n",
    "plt.grid(True)\n",
    "plt.show()\n"
   ]
  },
  {
   "cell_type": "code",
   "execution_count": 31,
   "metadata": {},
   "outputs": [],
   "source": [
    "from sklearn.metrics import silhouette_score, silhouette_samples"
   ]
  },
  {
   "cell_type": "code",
   "execution_count": 32,
   "metadata": {},
   "outputs": [
    {
     "name": "stdout",
     "output_type": "stream",
     "text": [
      "The silhouette score for no. of cluster k =  3  is :-  0.281693760692738\n",
      "The silhouette score for no. of cluster k =  4  is :-  0.35023383713328315\n",
      "The silhouette score for no. of cluster k =  5  is :-  0.33946961576419443\n",
      "The silhouette score for no. of cluster k =  6  is :-  0.3023839420149433\n"
     ]
    },
    {
     "data": {
      "image/png": "[encoded data removed]",
      "text/plain": [
       "<Figure size 360x360 with 1 Axes>"
      ]
     },
     "metadata": {},
     "output_type": "display_data"
    },
    {
     "data": {
      "image/png": "[encoded data removed]",
      "text/plain": [
       "<Figure size 360x360 with 1 Axes>"
      ]
     },
     "metadata": {},
     "output_type": "display_data"
    },
    {
     "data": {
      "image/png": "[encoded data removed]",
      "text/plain": [
       "<Figure size 360x360 with 1 Axes>"
      ]
     },
     "metadata": {},
     "output_type": "display_data"
    },
    {
     "data": {
      "image/png": "[encoded data removed]",
      "text/plain": [
       "<Figure size 360x360 with 1 Axes>"
      ]
     },
     "metadata": {},
     "output_type": "display_data"
    }
   ],
   "source": [
    "predict = []\n",
    "for i in range(3,7):\n",
    "    k = KMeans(n_clusters=i, random_state=23)\n",
    "    pred= k.fit_predict(train_std)\n",
    "    predict.append(pred)\n",
    "    score =silhouette_score(train_std,pred)\n",
    "    print('The silhouette score for no. of cluster k = ',i ,' is :- ', score)\n",
    "    sil_sam = silhouette_samples(train_std,pred)\n",
    "    fig,ax = plt.subplots(1,1)\n",
    "    fig.set_size_inches(5,5)\n",
    "    y_lower =10\n",
    "    for j in range(i):\n",
    "        jth_clus_sil_val = sil_sam[pred==j]\n",
    "        jth_clus_sil_val.sort()\n",
    "        j_size_clus = jth_clus_sil_val.shape[0]\n",
    "        y_upper = y_lower + j_size_clus\n",
    "        ax.fill_betweenx(np.arange(y_lower,y_upper),0,jth_clus_sil_val)\n",
    "        ax.text(-0.05,y_lower+0.5*j_size_clus, str(j))\n",
    "        y_lower = y_upper + 10\n",
    "    ax.axvline(x= score,linestyle= '--')\n",
    "    plt.suptitle('number of clusters= %d' %i, fontweight= 'bold')"
   ]
  },
  {
   "cell_type": "code",
   "execution_count": 33,
   "metadata": {},
   "outputs": [
    {
     "data": {
      "text/plain": [
       "array([3, 3, 0, 0, 3, 2, 2, 0, 0, 2, 3, 0, 4, 0, 0, 0, 1, 1, 2, 0, 2, 2,\n",
       "       2])"
      ]
     },
     "execution_count": 33,
     "metadata": {},
     "output_type": "execute_result"
    }
   ],
   "source": [
    "predict[2]"
   ]
  },
  {
   "cell_type": "code",
   "execution_count": 34,
   "metadata": {},
   "outputs": [],
   "source": [
    "df['Cluster'] = predict[2]"
   ]
  },
  {
   "cell_type": "code",
   "execution_count": 35,
   "metadata": {},
   "outputs": [
    {
     "data": {
      "text/html": [
       "<div>\n",
       "<style scoped>\n",
       "    .dataframe tbody tr th:only-of-type {\n",
       "        vertical-align: middle;\n",
       "    }\n",
       "\n",
       "    .dataframe tbody tr th {\n",
       "        vertical-align: top;\n",
       "    }\n",
       "\n",
       "    .dataframe thead th {\n",
       "        text-align: right;\n",
       "    }\n",
       "</style>\n",
       "<table border=\"1\" class=\"dataframe\">\n",
       "  <thead>\n",
       "    <tr style=\"text-align: right;\">\n",
       "      <th></th>\n",
       "      <th>State</th>\n",
       "      <th>Population(0-6)years</th>\n",
       "      <th>VitA_deficit%</th>\n",
       "      <th>VitD_deficit%</th>\n",
       "      <th>Vitamin A Deficit</th>\n",
       "      <th>Vitamin D Deficit</th>\n",
       "      <th>Cluster</th>\n",
       "    </tr>\n",
       "  </thead>\n",
       "  <tbody>\n",
       "    <tr>\n",
       "      <th>0</th>\n",
       "      <td>Delhi</td>\n",
       "      <td>2016849</td>\n",
       "      <td>17.8</td>\n",
       "      <td>32.5</td>\n",
       "      <td>358999.122</td>\n",
       "      <td>655475.925</td>\n",
       "      <td>3</td>\n",
       "    </tr>\n",
       "    <tr>\n",
       "      <th>1</th>\n",
       "      <td>Haryana</td>\n",
       "      <td>3335537</td>\n",
       "      <td>26.1</td>\n",
       "      <td>27.6</td>\n",
       "      <td>870575.157</td>\n",
       "      <td>920608.212</td>\n",
       "      <td>3</td>\n",
       "    </tr>\n",
       "    <tr>\n",
       "      <th>2</th>\n",
       "      <td>Himachal Pradesh</td>\n",
       "      <td>793137</td>\n",
       "      <td>5.9</td>\n",
       "      <td>4.6</td>\n",
       "      <td>46795.083</td>\n",
       "      <td>36484.302</td>\n",
       "      <td>0</td>\n",
       "    </tr>\n",
       "    <tr>\n",
       "      <th>3</th>\n",
       "      <td>Jammu &amp; Kashmir</td>\n",
       "      <td>1485803</td>\n",
       "      <td>8.7</td>\n",
       "      <td>22.9</td>\n",
       "      <td>129264.861</td>\n",
       "      <td>340248.887</td>\n",
       "      <td>0</td>\n",
       "    </tr>\n",
       "    <tr>\n",
       "      <th>6</th>\n",
       "      <td>Uttarakhand</td>\n",
       "      <td>1360032</td>\n",
       "      <td>14.3</td>\n",
       "      <td>46.4</td>\n",
       "      <td>194484.576</td>\n",
       "      <td>631054.848</td>\n",
       "      <td>3</td>\n",
       "    </tr>\n",
       "  </tbody>\n",
       "</table>\n",
       "</div>"
      ],
      "text/plain": [
       "              State  Population(0-6)years  VitA_deficit%  VitD_deficit%  \\\n",
       "0             Delhi               2016849           17.8           32.5   \n",
       "1           Haryana               3335537           26.1           27.6   \n",
       "2  Himachal Pradesh                793137            5.9            4.6   \n",
       "3   Jammu & Kashmir               1485803            8.7           22.9   \n",
       "6       Uttarakhand               1360032           14.3           46.4   \n",
       "\n",
       "   Vitamin A Deficit  Vitamin D Deficit  Cluster  \n",
       "0         358999.122         655475.925        3  \n",
       "1         870575.157         920608.212        3  \n",
       "2          46795.083          36484.302        0  \n",
       "3         129264.861         340248.887        0  \n",
       "6         194484.576         631054.848        3  "
      ]
     },
     "execution_count": 35,
     "metadata": {},
     "output_type": "execute_result"
    }
   ],
   "source": [
    "df.head()"
   ]
  },
  {
   "cell_type": "code",
   "execution_count": 36,
   "metadata": {},
   "outputs": [],
   "source": [
    "df1 = df[df['Cluster']==0]\n",
    "df2 = df[df['Cluster']==1]\n",
    "df3 = df[df['Cluster']==2]\n",
    "df4 = df[df['Cluster']==3]\n",
    "df5 = df[df['Cluster']==4]"
   ]
  },
  {
   "cell_type": "code",
   "execution_count": 37,
   "metadata": {},
   "outputs": [
    {
     "name": "stdout",
     "output_type": "stream",
     "text": [
      "States in Cluster1 are  ['Himachal Pradesh' 'Jammu & Kashmir' 'West Bengal' 'Arunachal Pradesh'\n",
      " 'Meghalaya' 'Sikkim' 'Tripura' 'Goa' 'Karnataka']\n",
      "States in Cluster2 are  ['Gujarat' 'Maharashtra']\n",
      "States in Cluster3 are  ['Chhatisgarh' 'Odisha' 'Assam' 'Andhra Pradesh' 'Kerala' 'Tamil Nadu'\n",
      " 'Telengana']\n",
      "States in Cluster4 are  ['Delhi' 'Haryana' 'Uttarakhand' 'Manipur']\n",
      "States in Cluster5 are  ['Mizoram']\n"
     ]
    }
   ],
   "source": [
    "cluster1 = df1.State\n",
    "cluster2 = df2.State\n",
    "cluster3 = df3.State\n",
    "cluster4 = df4.State\n",
    "cluster5 = df5.State\n",
    "\n",
    "print('States in Cluster1 are ', cluster1.to_numpy())\n",
    "\n",
    "print('States in Cluster2 are ', cluster2.to_numpy())\n",
    "\n",
    "print('States in Cluster3 are ', cluster3.to_numpy())\n",
    "\n",
    "print('States in Cluster4 are ', cluster4.to_numpy())\n",
    "print('States in Cluster5 are ', cluster5.to_numpy())"
   ]
  },
  {
   "cell_type": "code",
   "execution_count": null,
   "metadata": {},
   "outputs": [],
   "source": []
  },
  {
   "cell_type": "code",
   "execution_count": null,
   "metadata": {},
   "outputs": [],
   "source": []
  }
 ],
 "metadata": {
  "kernelspec": {
   "display_name": "Python 3",
   "language": "python",
   "name": "python3"
  },
  "language_info": {
   "codemirror_mode": {
    "name": "ipython",
    "version": 3
   },
   "file_extension": ".py",
   "mimetype": "text/x-python",
   "name": "python",
   "nbconvert_exporter": "python",
   "pygments_lexer": "ipython3",
   "version": "3.8.5"
  }
 },
 "nbformat": 4,
 "nbformat_minor": 4
}
